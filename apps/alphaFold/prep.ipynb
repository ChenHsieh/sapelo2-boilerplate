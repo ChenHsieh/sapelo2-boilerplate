{
    "cells": [
        {
            "cell_type": "code",
            "execution_count": 2,
            "source": [
                "from Bio import SeqIO\n",
                "\n",
                "# seperate sequences into files\n",
                "file_name_list = []\n",
                "for seqRecord in SeqIO.parse(\"Ptrichocarpav4.1g.primaryTrs.pep.fa\", \"fasta\"):\n",
                "    file_name_list.append(f\"{seqRecord.id}.fa\")\n",
                "    SeqIO.write(seqRecord, f\"{seqRecord.id}.fa\", \"fasta\")\n"
            ],
            "outputs": [],
            "metadata": {}
        },
        {
            "cell_type": "code",
            "execution_count": 4,
            "source": [
                "# prepare commands in a file for parallel\n",
                "\n",
                "# bash $EBROOTALPHAFOLD/alphafold/run_alphafold.sh -d /db/AlphaFold  -o ./output/ \\\n",
                "# -m model_1 -f ./{file_name} -t 2020-05-14\n",
                "with open('alphaFold.cmd', 'w') as f:\n",
                "    for file_name in file_name_list:\n",
                "        cmd = f\"bash $EBROOTALPHAFOLD/alphafold/run_alphafold.sh -d /db/AlphaFold  -o ./output/ \\\n",
                "    -m model_1 -f ./{file_name} -t 2020-05-14\"\n",
                "        f.write(cmd)"
            ],
            "outputs": [],
            "metadata": {}
        },
        {
            "cell_type": "code",
            "execution_count": null,
            "source": [],
            "outputs": [],
            "metadata": {}
        }
    ],
    "metadata": {
        "orig_nbformat": 4,
        "language_info": {
            "name": "python",
            "version": "3.6.13",
            "mimetype": "text/x-python",
            "codemirror_mode": {
                "name": "ipython",
                "version": 3
            },
            "pygments_lexer": "ipython3",
            "nbconvert_exporter": "python",
            "file_extension": ".py"
        },
        "kernelspec": {
            "name": "python3",
            "display_name": "Python 3.6.13 64-bit ('binf36': conda)"
        },
        "interpreter": {
            "hash": "af2f17ac45dd6289728e7cd82682c235565ab65b833fdfc762b0327d912ca907"
        }
    },
    "nbformat": 4,
    "nbformat_minor": 2
}